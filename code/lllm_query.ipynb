{
  "nbformat": 4,
  "nbformat_minor": 0,
  "metadata": {
    "colab": {
      "provenance": []
    },
    "kernelspec": {
      "name": "python3",
      "display_name": "Python 3"
    },
    "language_info": {
      "name": "python"
    }
  },
  "cells": [
    {
      "cell_type": "code",
      "execution_count": null,
      "metadata": {
        "id": "ZJ39SMdYZv7f"
      },
      "outputs": [],
      "source": [
        "# llm_query.ipynb\n",
        "\n",
        "# Install any required libs (if running in Colab)\n",
        "# !pip install transformers  # for Huggingface LLaMA or similar\n",
        "\n",
        "from transformers import pipeline\n",
        "import json\n",
        "import os\n",
        "\n",
        "# Initialize LLM pipeline (example: Huggingface text-generation)\n",
        "llm = pipeline(\"text-generation\", model=\"meta-llama/Llama-2-7b-chat-hf\")\n",
        "\n",
        "# Load test cases from 'data' folder\n",
        "testcases_folder = \"./data\"\n",
        "testcases = []\n",
        "for fname in os.listdir(testcases_folder):\n",
        "    if fname.endswith(\".json\"):\n",
        "        with open(os.path.join(testcases_folder, fname), \"r\") as f:\n",
        "            testcases.append(json.load(f))\n",
        "\n",
        "# Generate responses for each test case question\n",
        "responses = {}\n",
        "for tc in testcases:\n",
        "    prompt = tc[\"question\"]\n",
        "    output = llm(prompt, max_length=200)[0][\"generated_text\"]\n",
        "    responses[tc[\"id\"]] = output\n",
        "\n",
        "# Save responses to 'code' folder (for GAICO evaluation later)\n",
        "with open(\"./code/llm_responses.json\", \"w\") as f:\n",
        "    json.dump(responses, f, indent=2)\n",
        "\n",
        "print(\"LLM responses saved.\")\n"
      ]
    }
  ]
}