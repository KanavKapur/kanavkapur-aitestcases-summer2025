{
  "nbformat": 4,
  "nbformat_minor": 0,
  "metadata": {
    "colab": {
      "provenance": []
    },
    "kernelspec": {
      "name": "python3",
      "display_name": "Python 3"
    },
    "language_info": {
      "name": "python"
    }
  },
  "cells": [
    {
      "cell_type": "code",
      "execution_count": null,
      "metadata": {
        "id": "Y9wmZfZeaMUt"
      },
      "outputs": [],
      "source": [
        "# gaico_evaluation.ipynb\n",
        "\n",
        "# Install GAICO if needed\n",
        "# !pip install gaico\n",
        "\n",
        "import json\n",
        "from gaico import Experiment\n",
        "\n",
        "# Load testcases and LLM responses\n",
        "with open(\"./data/finance_tc_kanav_001.json\") as f:\n",
        "    testcase = json.load(f)\n",
        "\n",
        "with open(\"./code/llm_responses.json\") as f:\n",
        "    llm_responses = json.load(f)\n",
        "\n",
        "# GAICO expects dict of llm_responses keyed by model name (use 'llm' here)\n",
        "experiment = Experiment(llm_responses={\"llm\": llm_responses[testcase[\"id\"]]}, reference_answer=testcase[\"reference_answer\"])\n",
        "\n",
        "# Compare responses to the reference answer\n",
        "results = experiment.compare()\n",
        "\n",
        "# Show results\n",
        "print(results)\n",
        "\n",
        "# Optionally save results\n",
        "results.to_csv(\"./results/finance_tc_kanav_001_results.csv\")\n"
      ]
    }
  ]
}